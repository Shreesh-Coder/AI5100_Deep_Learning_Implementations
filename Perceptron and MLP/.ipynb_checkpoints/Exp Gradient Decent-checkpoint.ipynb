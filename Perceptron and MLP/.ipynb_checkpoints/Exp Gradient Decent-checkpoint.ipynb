{
 "cells": [
  {
   "cell_type": "code",
   "execution_count": 1,
   "metadata": {},
   "outputs": [],
   "source": [
    "import numpy as np\n",
    "import matplotlib.pyplot as plt\n",
    "import torch"
   ]
  },
  {
   "cell_type": "code",
   "execution_count": 2,
   "metadata": {},
   "outputs": [],
   "source": [
    "def generate_data(num_points_per_class, gamma_values):\n",
    "    data_list = []\n",
    "    labels_list = []\n",
    "    \n",
    "    for gamma in gamma_values:\n",
    "        # Means for each class\n",
    "        mean_class1 = torch.tensor([gamma, gamma])\n",
    "        mean_class2 = torch.tensor([-gamma, -gamma])\n",
    "        \n",
    "        # Covariance matrices for each class (identity matrices in this case)\n",
    "        cov_matrix_class1 = torch.eye(2)\n",
    "        cov_matrix_class2 = torch.eye(2)\n",
    "        \n",
    "        # Generate random data points for each class\n",
    "        data_class1 = torch.distributions.MultivariateNormal(mean_class1, cov_matrix_class1).sample((num_points_per_class,))\n",
    "        data_class2 = torch.distributions.MultivariateNormal(mean_class2, cov_matrix_class2).sample((num_points_per_class,))\n",
    "        \n",
    "        # Combine data from both classes\n",
    "        data = torch.cat((data_class1, data_class2), dim=0)\n",
    "        labels = torch.cat((torch.zeros(num_points_per_class), torch.ones(num_points_per_class)))\n",
    "        \n",
    "        data_list.append(data)\n",
    "        labels_list.append(labels)\n",
    "    \n",
    "    return data_list, labels_list\n"
   ]
  },
  {
   "cell_type": "code",
   "execution_count": 3,
   "metadata": {},
   "outputs": [],
   "source": [
    "def plot_data_with_gamma(data_list, labels_list, gamma_values):\n",
    "    # Number of rows and columns for the subplot grid\n",
    "    num_rows = 2\n",
    "    num_cols = (len(gamma_values) + 1) // num_rows\n",
    "\n",
    "    # Create a figure and a grid of subplots\n",
    "    fig, axes = plt.subplots(num_rows, num_cols, figsize=(15, 10))\n",
    "\n",
    "    # Flatten the axes array for easy iteration\n",
    "    axes = axes.flatten()\n",
    "\n",
    "    for i, (data, labels, gamma) in enumerate(zip(data_list, labels_list, gamma_values)):\n",
    "        ax = axes[i]\n",
    "        \n",
    "        # Separate data by class\n",
    "        data_class1 = data[labels == 0]\n",
    "        data_class2 = data[labels == 1]\n",
    "        \n",
    "        # Plot the data to visualize the separability\n",
    "        ax.scatter(data_class1[:, 0], data_class1[:, 1], color='red', label='Class 0', alpha=0.5)\n",
    "        ax.scatter(data_class2[:, 0], data_class2[:, 1], color='blue', label='Class 1', alpha=0.5)\n",
    "        \n",
    "        # Customize the plot\n",
    "        ax.set_title(f'Dataset with γ = {gamma}')\n",
    "        ax.set_xlabel('Feature 1')\n",
    "        ax.set_ylabel('Feature 2')\n",
    "        ax.legend()\n",
    "        ax.grid(True, linestyle='--', linewidth=0.7)\n",
    "    \n",
    "    # Hide any unused subplots\n",
    "    for j in range(i + 1, num_rows * num_cols):\n",
    "        fig.delaxes(axes[j])\n",
    "\n",
    "    plt.tight_layout()\n",
    "    plt.show()"
   ]
  },
  {
   "cell_type": "code",
   "execution_count": null,
   "metadata": {},
   "outputs": [],
   "source": [
    "# Number of points per class\n",
    "num_points_per_class = 500\n",
    "# Different levels of separability\n",
    "gamma_values = [0.5, 1.0, 1.5, 2.0, 2.5, 3.0]\n",
    "\n",
    "# Generate data\n",
    "data_list, labels_list = generate_data(num_points_per_class, gamma_values)\n",
    "\n",
    "# Plot the data\n",
    "plot_data_with_gamma(data_list, labels_list, gamma_values)\n"
   ]
  },
  {
   "cell_type": "code",
   "execution_count": null,
   "metadata": {},
   "outputs": [],
   "source": []
  }
 ],
 "metadata": {
  "kernelspec": {
   "display_name": "Python 3 (ipykernel)",
   "language": "python",
   "name": "python3"
  },
  "language_info": {
   "codemirror_mode": {
    "name": "ipython",
    "version": 3
   },
   "file_extension": ".py",
   "mimetype": "text/x-python",
   "name": "python",
   "nbconvert_exporter": "python",
   "pygments_lexer": "ipython3",
   "version": "3.11.4"
  }
 },
 "nbformat": 4,
 "nbformat_minor": 2
}
