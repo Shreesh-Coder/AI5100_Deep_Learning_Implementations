{
 "cells": [
  {
   "cell_type": "code",
   "execution_count": 2,
   "metadata": {},
   "outputs": [
    {
     "data": {
      "text/plain": [
       "(None, None, None, None)"
      ]
     },
     "execution_count": 2,
     "metadata": {},
     "output_type": "execute_result"
    }
   ],
   "source": [
    "import numpy as np\n",
    "\n",
    "# Define a basic Tensor class\n",
    "class Tensor:\n",
    "    def __init__(self, data):\n",
    "        self.data = np.array(data, dtype=float)\n",
    "        self.grad = None\n",
    "        self._backward = lambda: None\n",
    "\n",
    "    def backward(self, grad=None):\n",
    "        if grad is not None:\n",
    "            self.grad = grad\n",
    "        else:\n",
    "            if self.grad is None:\n",
    "                self.grad = np.ones_like(self.data)\n",
    "        self._backward()\n",
    "\n",
    "# Define a linear layer\n",
    "class Linear:\n",
    "    def __init__(self, input_size, output_size):\n",
    "        self.weights = Tensor(np.random.randn(input_size, output_size) * np.sqrt(2. / input_size))\n",
    "        self.bias = Tensor(np.zeros(output_size))\n",
    "\n",
    "    def __call__(self, x):\n",
    "        self.input = x\n",
    "        self.output = Tensor(x.data @ self.weights.data + self.bias.data)\n",
    "        self.output._backward = self.backward\n",
    "        return self.output\n",
    "\n",
    "    def backward(self):\n",
    "        self.input.grad = self.output.grad @ self.weights.data.T\n",
    "        self.weights.grad = self.input.data.T @ self.output.grad\n",
    "        self.bias.grad = self.output.grad.mean(axis=0)\n",
    "\n",
    "# Define sigmoid activation function and its backward pass\n",
    "def sigmoid(x):\n",
    "    output = Tensor(1 / (1 + np.exp(-x.data)))\n",
    "    output._backward = lambda: sigmoid_backward(x, output)\n",
    "    return output\n",
    "\n",
    "def sigmoid_backward(input, output):\n",
    "    sig = 1 / (1 + np.exp(-input.data))\n",
    "    input.grad = output.grad * sig * (1 - sig)\n",
    "\n",
    "# Define mean squared error loss\n",
    "def mse_loss(y_pred, y_true):\n",
    "    diff = y_pred.data - y_true.data\n",
    "    loss = Tensor(np.mean(diff ** 2))\n",
    "    loss._backward = lambda: mse_loss_backward(y_pred, y_true, loss)\n",
    "    return loss\n",
    "\n",
    "def mse_loss_backward(y_pred, y_true, output):\n",
    "    diff = y_pred.data - y_true.data\n",
    "    y_pred.grad = output.grad * 2 * diff / y_pred.data.size\n",
    "\n",
    "# Define an MLP with a single hidden layer\n",
    "class MLP:\n",
    "    def __init__(self, input_size, hidden_size, output_size):\n",
    "        self.layer1 = Linear(input_size, hidden_size)\n",
    "        self.layer2 = Linear(hidden_size, output_size)\n",
    "\n",
    "    def forward(self, x):\n",
    "        x = self.layer1(x)\n",
    "        x = sigmoid(x)\n",
    "        x = self.layer2(x)\n",
    "        return x\n",
    "\n",
    "# Example usage\n",
    "model = MLP(input_size=3, hidden_size=5, output_size=1)\n",
    "x = Tensor([[1, 2, 3]])\n",
    "y_true = Tensor([[0]])\n",
    "\n",
    "# Forward pass\n",
    "y_pred = model.forward(x)\n",
    "\n",
    "# Compute loss\n",
    "loss = mse_loss(y_pred, y_true)\n",
    "\n",
    "# Backward pass\n",
    "loss.backward()\n",
    "\n",
    "# Check gradients\n",
    "model.layer1.weights.grad, model.layer1.bias.grad, model.layer2.weights.grad, model.layer2.bias.grad\n"
   ]
  },
  {
   "cell_type": "code",
   "execution_count": null,
   "metadata": {},
   "outputs": [],
   "source": []
  },
  {
   "cell_type": "code",
   "execution_count": null,
   "metadata": {},
   "outputs": [],
   "source": []
  },
  {
   "cell_type": "code",
   "execution_count": null,
   "metadata": {},
   "outputs": [],
   "source": []
  },
  {
   "cell_type": "code",
   "execution_count": null,
   "metadata": {},
   "outputs": [],
   "source": []
  },
  {
   "cell_type": "code",
   "execution_count": null,
   "metadata": {},
   "outputs": [],
   "source": []
  },
  {
   "cell_type": "code",
   "execution_count": null,
   "metadata": {},
   "outputs": [],
   "source": []
  }
 ],
 "metadata": {
  "kernelspec": {
   "display_name": "Python 3 (ipykernel)",
   "language": "python",
   "name": "python3"
  },
  "language_info": {
   "codemirror_mode": {
    "name": "ipython",
    "version": 3
   },
   "file_extension": ".py",
   "mimetype": "text/x-python",
   "name": "python",
   "nbconvert_exporter": "python",
   "pygments_lexer": "ipython3",
   "version": "3.11.5"
  }
 },
 "nbformat": 4,
 "nbformat_minor": 2
}
